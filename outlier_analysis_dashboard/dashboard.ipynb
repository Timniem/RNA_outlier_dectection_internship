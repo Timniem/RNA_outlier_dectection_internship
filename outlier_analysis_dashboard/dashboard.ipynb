{
 "cells": [
  {
   "cell_type": "code",
   "execution_count": null,
   "metadata": {},
   "outputs": [],
   "source": [
    "from Dashboard import Dashboard\n",
    "import pandas as pd\n",
    "\n",
    "\n",
    "\n",
    "def main():\n",
    "    data = pd.read_csv(\"DATA/result_table_jcts.tsv\", sep='\\s+')\n",
    "    panel = Dashboard(data).run()\n",
    "    panel.show()\n",
    "\n",
    "if __name__ == '__main__':\n",
    "    main()\n"
   ]
  }
 ],
 "metadata": {
  "kernelspec": {
   "display_name": "Python 3",
   "language": "python",
   "name": "python3"
  },
  "language_info": {
   "codemirror_mode": {
    "name": "ipython",
    "version": 3
   },
   "file_extension": ".py",
   "mimetype": "text/x-python",
   "name": "python",
   "nbconvert_exporter": "python",
   "pygments_lexer": "ipython3",
   "version": "3.11.5"
  },
  "orig_nbformat": 4
 },
 "nbformat": 4,
 "nbformat_minor": 2
}
